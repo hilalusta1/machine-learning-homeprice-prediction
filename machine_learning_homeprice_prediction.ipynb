{
  "nbformat": 4,
  "nbformat_minor": 0,
  "metadata": {
    "colab": {
      "provenance": [],
      "authorship_tag": "ABX9TyNoBDba4BgtjSBEOkHNyy2n",
      "include_colab_link": true
    },
    "kernelspec": {
      "name": "python3",
      "display_name": "Python 3"
    },
    "language_info": {
      "name": "python"
    }
  },
  "cells": [
    {
      "cell_type": "markdown",
      "metadata": {
        "id": "view-in-github",
        "colab_type": "text"
      },
      "source": [
        "<a href=\"https://colab.research.google.com/github/hilalusta1/machine-learning-homeprice-prediction/blob/main/machine_learning_homeprice_prediction.ipynb\" target=\"_parent\"><img src=\"https://colab.research.google.com/assets/colab-badge.svg\" alt=\"Open In Colab\"/></a>"
      ]
    },
    {
      "cell_type": "code",
      "execution_count": null,
      "metadata": {
        "colab": {
          "base_uri": "https://localhost:8080/"
        },
        "id": "4P5YGQNePGoX",
        "outputId": "c2792f2a-9dae-4b6d-a16b-2233f01cfd89"
      },
      "outputs": [
        {
          "output_type": "stream",
          "name": "stdout",
          "text": [
            "Mounted at /content/drive\n",
            "/content/drive/My Drive/veriSeti\n",
            "housing.csv  model.pkl\n"
          ]
        }
      ],
      "source": [
        "#DRİVE BAĞLANTISI VE VERİ SETİNİN ÇEKİLMESİ:\n",
        "from google.colab import drive\n",
        "drive.mount('/content/drive')\n",
        "import os\n",
        "os.environ['VERİSETİ_CONFIG_DIR'] = \"/content/drive/My Drive/veriSeti\"\n",
        "%cd /content/drive/My Drive/veriSeti\n",
        "!ls"
      ]
    },
    {
      "cell_type": "code",
      "source": [
        "#PANDAS KÜTÜPHANESİ YARDIMIYLA VERİ SETİNİN VARSAYILAN OLARAK İLK 5 SATIRININ GÖRÜNTÜLENMESİ:\n",
        "import pandas as pd\n",
        "\n",
        "veri = pd.read_csv(\"housing.csv\")\n",
        "veri.head()"
      ],
      "metadata": {
        "colab": {
          "base_uri": "https://localhost:8080/",
          "height": 206
        },
        "id": "4ESAmlC9Qamb",
        "outputId": "55675cef-99ae-4ef8-ca52-c26c9b44312f"
      },
      "execution_count": null,
      "outputs": [
        {
          "output_type": "execute_result",
          "data": {
            "text/plain": [
              "   longitude  latitude  housing_median_age  total_rooms  total_bedrooms  \\\n",
              "0    -122.23     37.88                41.0        880.0           129.0   \n",
              "1    -122.22     37.86                21.0       7099.0          1106.0   \n",
              "2    -122.24     37.85                52.0       1467.0           190.0   \n",
              "3    -122.25     37.85                52.0       1274.0           235.0   \n",
              "4    -122.25     37.85                52.0       1627.0           280.0   \n",
              "\n",
              "   population  households  median_income  median_house_value ocean_proximity  \n",
              "0       322.0       126.0         8.3252            452600.0        NEAR BAY  \n",
              "1      2401.0      1138.0         8.3014            358500.0        NEAR BAY  \n",
              "2       496.0       177.0         7.2574            352100.0        NEAR BAY  \n",
              "3       558.0       219.0         5.6431            341300.0        NEAR BAY  \n",
              "4       565.0       259.0         3.8462            342200.0        NEAR BAY  "
            ],
            "text/html": [
              "\n",
              "  <div id=\"df-7e51373f-40e0-4916-9f48-e34740b5ebf3\">\n",
              "    <div class=\"colab-df-container\">\n",
              "      <div>\n",
              "<style scoped>\n",
              "    .dataframe tbody tr th:only-of-type {\n",
              "        vertical-align: middle;\n",
              "    }\n",
              "\n",
              "    .dataframe tbody tr th {\n",
              "        vertical-align: top;\n",
              "    }\n",
              "\n",
              "    .dataframe thead th {\n",
              "        text-align: right;\n",
              "    }\n",
              "</style>\n",
              "<table border=\"1\" class=\"dataframe\">\n",
              "  <thead>\n",
              "    <tr style=\"text-align: right;\">\n",
              "      <th></th>\n",
              "      <th>longitude</th>\n",
              "      <th>latitude</th>\n",
              "      <th>housing_median_age</th>\n",
              "      <th>total_rooms</th>\n",
              "      <th>total_bedrooms</th>\n",
              "      <th>population</th>\n",
              "      <th>households</th>\n",
              "      <th>median_income</th>\n",
              "      <th>median_house_value</th>\n",
              "      <th>ocean_proximity</th>\n",
              "    </tr>\n",
              "  </thead>\n",
              "  <tbody>\n",
              "    <tr>\n",
              "      <th>0</th>\n",
              "      <td>-122.23</td>\n",
              "      <td>37.88</td>\n",
              "      <td>41.0</td>\n",
              "      <td>880.0</td>\n",
              "      <td>129.0</td>\n",
              "      <td>322.0</td>\n",
              "      <td>126.0</td>\n",
              "      <td>8.3252</td>\n",
              "      <td>452600.0</td>\n",
              "      <td>NEAR BAY</td>\n",
              "    </tr>\n",
              "    <tr>\n",
              "      <th>1</th>\n",
              "      <td>-122.22</td>\n",
              "      <td>37.86</td>\n",
              "      <td>21.0</td>\n",
              "      <td>7099.0</td>\n",
              "      <td>1106.0</td>\n",
              "      <td>2401.0</td>\n",
              "      <td>1138.0</td>\n",
              "      <td>8.3014</td>\n",
              "      <td>358500.0</td>\n",
              "      <td>NEAR BAY</td>\n",
              "    </tr>\n",
              "    <tr>\n",
              "      <th>2</th>\n",
              "      <td>-122.24</td>\n",
              "      <td>37.85</td>\n",
              "      <td>52.0</td>\n",
              "      <td>1467.0</td>\n",
              "      <td>190.0</td>\n",
              "      <td>496.0</td>\n",
              "      <td>177.0</td>\n",
              "      <td>7.2574</td>\n",
              "      <td>352100.0</td>\n",
              "      <td>NEAR BAY</td>\n",
              "    </tr>\n",
              "    <tr>\n",
              "      <th>3</th>\n",
              "      <td>-122.25</td>\n",
              "      <td>37.85</td>\n",
              "      <td>52.0</td>\n",
              "      <td>1274.0</td>\n",
              "      <td>235.0</td>\n",
              "      <td>558.0</td>\n",
              "      <td>219.0</td>\n",
              "      <td>5.6431</td>\n",
              "      <td>341300.0</td>\n",
              "      <td>NEAR BAY</td>\n",
              "    </tr>\n",
              "    <tr>\n",
              "      <th>4</th>\n",
              "      <td>-122.25</td>\n",
              "      <td>37.85</td>\n",
              "      <td>52.0</td>\n",
              "      <td>1627.0</td>\n",
              "      <td>280.0</td>\n",
              "      <td>565.0</td>\n",
              "      <td>259.0</td>\n",
              "      <td>3.8462</td>\n",
              "      <td>342200.0</td>\n",
              "      <td>NEAR BAY</td>\n",
              "    </tr>\n",
              "  </tbody>\n",
              "</table>\n",
              "</div>\n",
              "      <button class=\"colab-df-convert\" onclick=\"convertToInteractive('df-7e51373f-40e0-4916-9f48-e34740b5ebf3')\"\n",
              "              title=\"Convert this dataframe to an interactive table.\"\n",
              "              style=\"display:none;\">\n",
              "        \n",
              "  <svg xmlns=\"http://www.w3.org/2000/svg\" height=\"24px\"viewBox=\"0 0 24 24\"\n",
              "       width=\"24px\">\n",
              "    <path d=\"M0 0h24v24H0V0z\" fill=\"none\"/>\n",
              "    <path d=\"M18.56 5.44l.94 2.06.94-2.06 2.06-.94-2.06-.94-.94-2.06-.94 2.06-2.06.94zm-11 1L8.5 8.5l.94-2.06 2.06-.94-2.06-.94L8.5 2.5l-.94 2.06-2.06.94zm10 10l.94 2.06.94-2.06 2.06-.94-2.06-.94-.94-2.06-.94 2.06-2.06.94z\"/><path d=\"M17.41 7.96l-1.37-1.37c-.4-.4-.92-.59-1.43-.59-.52 0-1.04.2-1.43.59L10.3 9.45l-7.72 7.72c-.78.78-.78 2.05 0 2.83L4 21.41c.39.39.9.59 1.41.59.51 0 1.02-.2 1.41-.59l7.78-7.78 2.81-2.81c.8-.78.8-2.07 0-2.86zM5.41 20L4 18.59l7.72-7.72 1.47 1.35L5.41 20z\"/>\n",
              "  </svg>\n",
              "      </button>\n",
              "      \n",
              "  <style>\n",
              "    .colab-df-container {\n",
              "      display:flex;\n",
              "      flex-wrap:wrap;\n",
              "      gap: 12px;\n",
              "    }\n",
              "\n",
              "    .colab-df-convert {\n",
              "      background-color: #E8F0FE;\n",
              "      border: none;\n",
              "      border-radius: 50%;\n",
              "      cursor: pointer;\n",
              "      display: none;\n",
              "      fill: #1967D2;\n",
              "      height: 32px;\n",
              "      padding: 0 0 0 0;\n",
              "      width: 32px;\n",
              "    }\n",
              "\n",
              "    .colab-df-convert:hover {\n",
              "      background-color: #E2EBFA;\n",
              "      box-shadow: 0px 1px 2px rgba(60, 64, 67, 0.3), 0px 1px 3px 1px rgba(60, 64, 67, 0.15);\n",
              "      fill: #174EA6;\n",
              "    }\n",
              "\n",
              "    [theme=dark] .colab-df-convert {\n",
              "      background-color: #3B4455;\n",
              "      fill: #D2E3FC;\n",
              "    }\n",
              "\n",
              "    [theme=dark] .colab-df-convert:hover {\n",
              "      background-color: #434B5C;\n",
              "      box-shadow: 0px 1px 3px 1px rgba(0, 0, 0, 0.15);\n",
              "      filter: drop-shadow(0px 1px 2px rgba(0, 0, 0, 0.3));\n",
              "      fill: #FFFFFF;\n",
              "    }\n",
              "  </style>\n",
              "\n",
              "      <script>\n",
              "        const buttonEl =\n",
              "          document.querySelector('#df-7e51373f-40e0-4916-9f48-e34740b5ebf3 button.colab-df-convert');\n",
              "        buttonEl.style.display =\n",
              "          google.colab.kernel.accessAllowed ? 'block' : 'none';\n",
              "\n",
              "        async function convertToInteractive(key) {\n",
              "          const element = document.querySelector('#df-7e51373f-40e0-4916-9f48-e34740b5ebf3');\n",
              "          const dataTable =\n",
              "            await google.colab.kernel.invokeFunction('convertToInteractive',\n",
              "                                                     [key], {});\n",
              "          if (!dataTable) return;\n",
              "\n",
              "          const docLinkHtml = 'Like what you see? Visit the ' +\n",
              "            '<a target=\"_blank\" href=https://colab.research.google.com/notebooks/data_table.ipynb>data table notebook</a>'\n",
              "            + ' to learn more about interactive tables.';\n",
              "          element.innerHTML = '';\n",
              "          dataTable['output_type'] = 'display_data';\n",
              "          await google.colab.output.renderOutput(dataTable, element);\n",
              "          const docLink = document.createElement('div');\n",
              "          docLink.innerHTML = docLinkHtml;\n",
              "          element.appendChild(docLink);\n",
              "        }\n",
              "      </script>\n",
              "    </div>\n",
              "  </div>\n",
              "  "
            ]
          },
          "metadata": {},
          "execution_count": 2
        }
      ]
    },
    {
      "cell_type": "code",
      "source": [
        "#SÜTUNLARIN İSİMLERİNİN TÜRKÇELEŞTİRİLMESİ İŞLEMİNİ VERİ.COLUMNS İLE SÜTUN İSİMLERİNİ TUTAN BİR DİZİ ÜZERİNDEN, ELEMANLARIN TEK TEK DEĞİŞTİRİLMESİ İLE TÜRKÇELEŞTİRME İŞLEMİ GERÇEKLEŞTİRİLİYOR:\n",
        "veri.columns = ['Boylam' if x=='longitude' else x for x in veri.columns]\n",
        "veri.columns = ['Enlem' if x=='latitude' else x for x in veri.columns]\n",
        "veri.columns = ['Konut_Ortalama_Yas' if x=='housing_median_age' else x for x in veri.columns]\n",
        "veri.columns = ['Toplam_Oda' if x=='total_rooms' else x for x in veri.columns]\n",
        "veri.columns = ['Toplam_Yatak_Odası' if x=='total_bedrooms' else x for x in veri.columns]\n",
        "veri.columns = ['Nüfus' if x=='population' else x for x in veri.columns]\n",
        "veri.columns = ['Hane_Sayisi' if x=='households' else x for x in veri.columns]\n",
        "veri.columns = ['Ortalama_Gelir' if x=='median_income' else x for x in veri.columns]\n",
        "veri.columns = ['Ortalama_Fiyat' if x=='median_house_value' else x for x in veri.columns]\n",
        "veri.columns = ['Okyanusa_Yakınlık' if x=='ocean_proximity' else x for x in veri.columns]\n",
        "veri.head()"
      ],
      "metadata": {
        "colab": {
          "base_uri": "https://localhost:8080/",
          "height": 206
        },
        "id": "I0m4jpg8QgIC",
        "outputId": "6d3f1d90-feef-4740-acd2-7a5c1074c504"
      },
      "execution_count": null,
      "outputs": [
        {
          "output_type": "execute_result",
          "data": {
            "text/plain": [
              "   Boylam  Enlem  Konut_Ortalama_Yas  Toplam_Oda  Toplam_Yatak_Odası   Nüfus  \\\n",
              "0 -122.23  37.88                41.0       880.0               129.0   322.0   \n",
              "1 -122.22  37.86                21.0      7099.0              1106.0  2401.0   \n",
              "2 -122.24  37.85                52.0      1467.0               190.0   496.0   \n",
              "3 -122.25  37.85                52.0      1274.0               235.0   558.0   \n",
              "4 -122.25  37.85                52.0      1627.0               280.0   565.0   \n",
              "\n",
              "   Hane_Sayisi  Ortalama_Gelir  Ortalama_Fiyat Okyanusa_Yakınlık  \n",
              "0        126.0          8.3252        452600.0          NEAR BAY  \n",
              "1       1138.0          8.3014        358500.0          NEAR BAY  \n",
              "2        177.0          7.2574        352100.0          NEAR BAY  \n",
              "3        219.0          5.6431        341300.0          NEAR BAY  \n",
              "4        259.0          3.8462        342200.0          NEAR BAY  "
            ],
            "text/html": [
              "\n",
              "  <div id=\"df-30e4a274-a9f7-45fa-86a2-5942a1b058ce\">\n",
              "    <div class=\"colab-df-container\">\n",
              "      <div>\n",
              "<style scoped>\n",
              "    .dataframe tbody tr th:only-of-type {\n",
              "        vertical-align: middle;\n",
              "    }\n",
              "\n",
              "    .dataframe tbody tr th {\n",
              "        vertical-align: top;\n",
              "    }\n",
              "\n",
              "    .dataframe thead th {\n",
              "        text-align: right;\n",
              "    }\n",
              "</style>\n",
              "<table border=\"1\" class=\"dataframe\">\n",
              "  <thead>\n",
              "    <tr style=\"text-align: right;\">\n",
              "      <th></th>\n",
              "      <th>Boylam</th>\n",
              "      <th>Enlem</th>\n",
              "      <th>Konut_Ortalama_Yas</th>\n",
              "      <th>Toplam_Oda</th>\n",
              "      <th>Toplam_Yatak_Odası</th>\n",
              "      <th>Nüfus</th>\n",
              "      <th>Hane_Sayisi</th>\n",
              "      <th>Ortalama_Gelir</th>\n",
              "      <th>Ortalama_Fiyat</th>\n",
              "      <th>Okyanusa_Yakınlık</th>\n",
              "    </tr>\n",
              "  </thead>\n",
              "  <tbody>\n",
              "    <tr>\n",
              "      <th>0</th>\n",
              "      <td>-122.23</td>\n",
              "      <td>37.88</td>\n",
              "      <td>41.0</td>\n",
              "      <td>880.0</td>\n",
              "      <td>129.0</td>\n",
              "      <td>322.0</td>\n",
              "      <td>126.0</td>\n",
              "      <td>8.3252</td>\n",
              "      <td>452600.0</td>\n",
              "      <td>NEAR BAY</td>\n",
              "    </tr>\n",
              "    <tr>\n",
              "      <th>1</th>\n",
              "      <td>-122.22</td>\n",
              "      <td>37.86</td>\n",
              "      <td>21.0</td>\n",
              "      <td>7099.0</td>\n",
              "      <td>1106.0</td>\n",
              "      <td>2401.0</td>\n",
              "      <td>1138.0</td>\n",
              "      <td>8.3014</td>\n",
              "      <td>358500.0</td>\n",
              "      <td>NEAR BAY</td>\n",
              "    </tr>\n",
              "    <tr>\n",
              "      <th>2</th>\n",
              "      <td>-122.24</td>\n",
              "      <td>37.85</td>\n",
              "      <td>52.0</td>\n",
              "      <td>1467.0</td>\n",
              "      <td>190.0</td>\n",
              "      <td>496.0</td>\n",
              "      <td>177.0</td>\n",
              "      <td>7.2574</td>\n",
              "      <td>352100.0</td>\n",
              "      <td>NEAR BAY</td>\n",
              "    </tr>\n",
              "    <tr>\n",
              "      <th>3</th>\n",
              "      <td>-122.25</td>\n",
              "      <td>37.85</td>\n",
              "      <td>52.0</td>\n",
              "      <td>1274.0</td>\n",
              "      <td>235.0</td>\n",
              "      <td>558.0</td>\n",
              "      <td>219.0</td>\n",
              "      <td>5.6431</td>\n",
              "      <td>341300.0</td>\n",
              "      <td>NEAR BAY</td>\n",
              "    </tr>\n",
              "    <tr>\n",
              "      <th>4</th>\n",
              "      <td>-122.25</td>\n",
              "      <td>37.85</td>\n",
              "      <td>52.0</td>\n",
              "      <td>1627.0</td>\n",
              "      <td>280.0</td>\n",
              "      <td>565.0</td>\n",
              "      <td>259.0</td>\n",
              "      <td>3.8462</td>\n",
              "      <td>342200.0</td>\n",
              "      <td>NEAR BAY</td>\n",
              "    </tr>\n",
              "  </tbody>\n",
              "</table>\n",
              "</div>\n",
              "      <button class=\"colab-df-convert\" onclick=\"convertToInteractive('df-30e4a274-a9f7-45fa-86a2-5942a1b058ce')\"\n",
              "              title=\"Convert this dataframe to an interactive table.\"\n",
              "              style=\"display:none;\">\n",
              "        \n",
              "  <svg xmlns=\"http://www.w3.org/2000/svg\" height=\"24px\"viewBox=\"0 0 24 24\"\n",
              "       width=\"24px\">\n",
              "    <path d=\"M0 0h24v24H0V0z\" fill=\"none\"/>\n",
              "    <path d=\"M18.56 5.44l.94 2.06.94-2.06 2.06-.94-2.06-.94-.94-2.06-.94 2.06-2.06.94zm-11 1L8.5 8.5l.94-2.06 2.06-.94-2.06-.94L8.5 2.5l-.94 2.06-2.06.94zm10 10l.94 2.06.94-2.06 2.06-.94-2.06-.94-.94-2.06-.94 2.06-2.06.94z\"/><path d=\"M17.41 7.96l-1.37-1.37c-.4-.4-.92-.59-1.43-.59-.52 0-1.04.2-1.43.59L10.3 9.45l-7.72 7.72c-.78.78-.78 2.05 0 2.83L4 21.41c.39.39.9.59 1.41.59.51 0 1.02-.2 1.41-.59l7.78-7.78 2.81-2.81c.8-.78.8-2.07 0-2.86zM5.41 20L4 18.59l7.72-7.72 1.47 1.35L5.41 20z\"/>\n",
              "  </svg>\n",
              "      </button>\n",
              "      \n",
              "  <style>\n",
              "    .colab-df-container {\n",
              "      display:flex;\n",
              "      flex-wrap:wrap;\n",
              "      gap: 12px;\n",
              "    }\n",
              "\n",
              "    .colab-df-convert {\n",
              "      background-color: #E8F0FE;\n",
              "      border: none;\n",
              "      border-radius: 50%;\n",
              "      cursor: pointer;\n",
              "      display: none;\n",
              "      fill: #1967D2;\n",
              "      height: 32px;\n",
              "      padding: 0 0 0 0;\n",
              "      width: 32px;\n",
              "    }\n",
              "\n",
              "    .colab-df-convert:hover {\n",
              "      background-color: #E2EBFA;\n",
              "      box-shadow: 0px 1px 2px rgba(60, 64, 67, 0.3), 0px 1px 3px 1px rgba(60, 64, 67, 0.15);\n",
              "      fill: #174EA6;\n",
              "    }\n",
              "\n",
              "    [theme=dark] .colab-df-convert {\n",
              "      background-color: #3B4455;\n",
              "      fill: #D2E3FC;\n",
              "    }\n",
              "\n",
              "    [theme=dark] .colab-df-convert:hover {\n",
              "      background-color: #434B5C;\n",
              "      box-shadow: 0px 1px 3px 1px rgba(0, 0, 0, 0.15);\n",
              "      filter: drop-shadow(0px 1px 2px rgba(0, 0, 0, 0.3));\n",
              "      fill: #FFFFFF;\n",
              "    }\n",
              "  </style>\n",
              "\n",
              "      <script>\n",
              "        const buttonEl =\n",
              "          document.querySelector('#df-30e4a274-a9f7-45fa-86a2-5942a1b058ce button.colab-df-convert');\n",
              "        buttonEl.style.display =\n",
              "          google.colab.kernel.accessAllowed ? 'block' : 'none';\n",
              "\n",
              "        async function convertToInteractive(key) {\n",
              "          const element = document.querySelector('#df-30e4a274-a9f7-45fa-86a2-5942a1b058ce');\n",
              "          const dataTable =\n",
              "            await google.colab.kernel.invokeFunction('convertToInteractive',\n",
              "                                                     [key], {});\n",
              "          if (!dataTable) return;\n",
              "\n",
              "          const docLinkHtml = 'Like what you see? Visit the ' +\n",
              "            '<a target=\"_blank\" href=https://colab.research.google.com/notebooks/data_table.ipynb>data table notebook</a>'\n",
              "            + ' to learn more about interactive tables.';\n",
              "          element.innerHTML = '';\n",
              "          dataTable['output_type'] = 'display_data';\n",
              "          await google.colab.output.renderOutput(dataTable, element);\n",
              "          const docLink = document.createElement('div');\n",
              "          docLink.innerHTML = docLinkHtml;\n",
              "          element.appendChild(docLink);\n",
              "        }\n",
              "      </script>\n",
              "    </div>\n",
              "  </div>\n",
              "  "
            ]
          },
          "metadata": {},
          "execution_count": 3
        }
      ]
    },
    {
      "cell_type": "code",
      "source": [
        "#İNFO İLE VERİ SETİ HAKKINDAKİ BİLGİLERİ YAZDIRDIK:\n",
        "veri.info()"
      ],
      "metadata": {
        "colab": {
          "base_uri": "https://localhost:8080/"
        },
        "id": "g78zW_yVRcE7",
        "outputId": "aa3b3404-46f8-4ee2-dddb-cb2f694d7caa"
      },
      "execution_count": null,
      "outputs": [
        {
          "output_type": "stream",
          "name": "stdout",
          "text": [
            "<class 'pandas.core.frame.DataFrame'>\n",
            "RangeIndex: 20640 entries, 0 to 20639\n",
            "Data columns (total 10 columns):\n",
            " #   Column              Non-Null Count  Dtype  \n",
            "---  ------              --------------  -----  \n",
            " 0   Boylam              20640 non-null  float64\n",
            " 1   Enlem               20640 non-null  float64\n",
            " 2   Konut_Ortalama_Yas  20640 non-null  float64\n",
            " 3   Toplam_Oda          20640 non-null  float64\n",
            " 4   Toplam_Yatak_Odası  20433 non-null  float64\n",
            " 5   Nüfus               20640 non-null  float64\n",
            " 6   Hane_Sayisi         20640 non-null  float64\n",
            " 7   Ortalama_Gelir      20640 non-null  float64\n",
            " 8   Ortalama_Fiyat      20640 non-null  float64\n",
            " 9   Okyanusa_Yakınlık   20640 non-null  object \n",
            "dtypes: float64(9), object(1)\n",
            "memory usage: 1.6+ MB\n"
          ]
        }
      ]
    },
    {
      "cell_type": "code",
      "source": [
        "#VERİ SETİ ÜZERİNDEKİ ESKİK DEĞERLER İÇİN İLK OLARAK İSNULL METODU İLE SÜTUNLARDA TOPLAM KAÇ TANE EKSİK DEĞER OLDUĞUNU HESAPLIYORUZ\n",
        "#DAHA SONRA MATPLOTLİB KÜTÜPHANESİ YARIDIMIYLA BU EKSİKDEGERLER DEĞİŞKENİNİ GÖRSELLEŞTİRİYORUZ:\n",
        "import matplotlib.pyplot as plt\n",
        "\n",
        "eksik_degerler = veri.isnull().sum()\n",
        "plt.figure(figsize=(12,6))\n",
        "plt.bar(eksik_degerler.index, eksik_degerler.values)\n",
        "plt.title(\"Eksik Değerlerin Sütunlar Bazında Dağılımı\")\n",
        "plt.xlabel(\"Sütunlar\")\n",
        "plt.ylabel(\"Eksik Değerlerin Sayısı\")\n",
        "plt.show()"
      ],
      "metadata": {
        "colab": {
          "base_uri": "https://localhost:8080/",
          "height": 405
        },
        "id": "ZSuvAUQWQceE",
        "outputId": "b89b1f6f-df89-4049-9f5f-113e374d1795"
      },
      "execution_count": null,
      "outputs": [
        {
          "output_type": "display_data",
          "data": {
            "text/plain": [
              "<Figure size 864x432 with 1 Axes>"
            ],
            "image/png": "[encoded data removed]"
          },
          "metadata": {
            "needs_background": "light"
          }
        }
      ]
    },
    {
      "cell_type": "code",
      "source": [
        "#EKSİK DEĞER GÖRDÜĞÜMÜZ SÜTUNLARI SCİKİT-LEARN KÜTÜPHANESİNİN SİMPLEİMPUTER SINIFI YARDIMIYLA DOLDURMA İŞLEMİ YAPARKEN, “STRATEGY” PARAMETRESİ İÇERİSİNE \"MEAN\"\n",
        "#DEĞERİNİ VEREREK EKSİK DEĞERLERİN SÜTUNDA ORTALAMA DEĞERLE DOLDURMASINI SAĞLIYORUZ. EN SON OLARAKTA İMP NESNESİ ÜZERİNDEN FİT_TRANSFORM YAPILARAK EKSİK DEĞERLERİ DOLDURUYORUZ:\n",
        "from sklearn.impute import SimpleImputer\n",
        "\n",
        "imp = SimpleImputer(strategy='mean')\n",
        "veri['Toplam_Yatak_Odası'] = imp.fit_transform(veri[['Toplam_Yatak_Odası']])"
      ],
      "metadata": {
        "id": "d23H5AJsRV5M"
      },
      "execution_count": null,
      "outputs": []
    },
    {
      "cell_type": "code",
      "source": [
        "#TEKRAR EKSİK DEĞERLERİ GÖRSELLEŞTİRİYORUZ VE ARTIK EKSİK DEĞER KALMADIĞINI GÖRÜYORUZ:\n",
        "eksik_degerler = veri.isnull().sum()\n",
        "\n",
        "plt.figure(figsize=(12,6))\n",
        "plt.plot(eksik_degerler.index, eksik_degerler.values)\n",
        "plt.title(\"Eksik Değerlerin Sütunlar Bazında Dağılımı\")\n",
        "plt.xlabel(\"Sütunlar\")\n",
        "plt.ylabel(\"Eksik Değerlerin Sayısı\")\n",
        "plt.show()"
      ],
      "metadata": {
        "colab": {
          "base_uri": "https://localhost:8080/",
          "height": 405
        },
        "id": "tvZUaiErRpFK",
        "outputId": "bc8d540c-5015-4826-fb8c-38ca690018ce"
      },
      "execution_count": null,
      "outputs": [
        {
          "output_type": "display_data",
          "data": {
            "text/plain": [
              "<Figure size 864x432 with 1 Axes>"
            ],
            "image/png": "[encoded data removed]"
          },
          "metadata": {
            "needs_background": "light"
          }
        }
      ]
    },
    {
      "cell_type": "code",
      "source": [
        "#VERİ SETİNDE SÜTUNLAR ARASINDAKİ İLİŞKİYİ GÖRSELLEŞTİRMEK İÇİN ISI HARİTASI YÖNTEMİNİ TERCİH ETTİM.\n",
        "#BU İŞLEM İÇİN SEABORN KÜTÜPHANESİNDE BULUNAN, ALDIĞI PARAMETRELER ARASINDAKİ İLİŞKİYİ GÖSTERMEK İÇİN KULLANILAN HEATMAP() FONKSİYONUNU KULLANIYORUZ:\n",
        "\n",
        "import matplotlib.pyplot as plt\n",
        "import seaborn as sns\n",
        "\n",
        "veri_plot = veri[[\"Toplam_Yatak_Odası\", \"Toplam_Oda\", \"Ortalama_Gelir\", \"Okyanusa_Yakınlık\", \"Nüfus\", \"Konut_Ortalama_Yas\", \"Ortalama_Fiyat\"]]\n",
        "sns.heatmap(veri_plot.corr(), annot=True)\n",
        "plt.show()"
      ],
      "metadata": {
        "colab": {
          "base_uri": "https://localhost:8080/",
          "height": 361
        },
        "id": "8FQRya2EVYiy",
        "outputId": "b9cb0b46-e053-4fac-d9fe-6598b31aab9c"
      },
      "execution_count": null,
      "outputs": [
        {
          "output_type": "display_data",
          "data": {
            "text/plain": [
              "<Figure size 432x288 with 2 Axes>"
            ],
            "image/png": "[encoded data removed]"
          },
          "metadata": {
            "needs_background": "light"
          }
        }
      ]
    },
    {
      "cell_type": "code",
      "source": [
        "#ŞİMDİDE ORTALAMA FİYATA EN ÇOK ETKİ EDEN SÜTUNLARIN BULUNMASI İÇİN ETKİ ADINDA BİR DEĞİŞKENE\n",
        "#VERİ SETİNDEKİ ORTALAMA FİYATA ETKİ EDEN SÜTUNLARIN KORELASYON DEĞERİ ATIYORUZ VE DAHA SONRA ETKİ DEĞİŞKENİ GÖRSELLEŞTİYORUZ:\n",
        "import matplotlib.pyplot as plt\n",
        "\n",
        "etki = veri.corr()[\"Ortalama_Fiyat\"].sort_values(ascending=False)\n",
        "etki.plot(kind=\"bar\")\n",
        "plt.show()"
      ],
      "metadata": {
        "colab": {
          "base_uri": "https://localhost:8080/",
          "height": 357
        },
        "id": "pEIHg6dflBv0",
        "outputId": "087e2f88-4736-4cf8-e0a9-594a34d2de54"
      },
      "execution_count": null,
      "outputs": [
        {
          "output_type": "display_data",
          "data": {
            "text/plain": [
              "<Figure size 432x288 with 1 Axes>"
            ],
            "image/png": "[encoded data removed]"
          },
          "metadata": {
            "needs_background": "light"
          }
        }
      ]
    },
    {
      "cell_type": "code",
      "source": [
        "#ORTALAMA FİYATA EN ÇOK ETKİ GÖSTEREN SÜTUNLARIN “ORTALAMA_GELİR” VE “ORTALAM_ODA” OLDUĞUNU GÖRDÜK. BU NEDENLE ORTALAMA GELİR VE TOPLAM ODA SÜTUNLARINI KULLANARAK YENİ BİR ÖZELLİK TÜRETEBİLİRİZ.\n",
        "#BU İŞLEM İÇİN APPLY() VE LAMBDA İFADELERİNE İHTİYACIMIZ VAR, ÇÜNKÜ HESAPLAMA İŞLEMİNİ LAMBDA GERÇEKLEŞTİRİRKEN, BU İŞLEMİN TÜM SATIRLAR İÇİN GERÇEKLEŞMESİNİ İSE APPLY() YAPAR. ORTALAMA GELİRİN\n",
        "#TOPLAM ODA SAYISINA BÖLÜMÜNÜ ALIP, TÜRETİLMİŞ ÖZELLİK OLARAK ATADIKTAN SONRA TABLOYA EKLİYORUZ:\n",
        "\n",
        "veri['Türetilmiş_Özellik'] = veri.apply(lambda row: row['Ortalama_Gelir'] / row['Toplam_Oda'], axis=1)\n",
        "import numpy as np\n",
        "\n",
        "#ÖNCELİKLE X DEĞİŞKENİNE VERİ SETİNİN BİR KOPYASINI ALDIK BU ŞEKİLDE VERİ SETİNDE DEĞİŞİKLİK YAPABİLİRİZ. DAHA SONRA ORTALAMA_FİYAT SÜTUNUNDA BULUNAN DEĞERLERİN DAĞILIMININ NORMAL DAĞILIMA\n",
        "#YAKIN OLMASINI İSTEDİĞİMİZ İÇİN ORTALAMA_FİYAT SÜTUNUNDA BULUNAN DEĞERLERİ LOGARİTMİK OLARAK Y DEĞİŞKENİNE ATADIK:\n",
        "#X DEĞİŞKENİNDE BULUNAN VERİNİN KOPYASI ÜZERİNDEN ORTALAMA FİYAT SÜTUNUNU SİLDİK BU SAYEDE ORTALAMA FİYAT HEDEF DEĞİŞKEN OLARAK KULLANILACAK VE MODELİN FİYAT TAHMİNİN EN DOĞRU ŞEKİLDE VERMESİ SAĞLANACAKTIR\n",
        "\n",
        "X = veri.copy()\n",
        "y = np.log(veri['Ortalama_Fiyat'])\n",
        "del X['Ortalama_Fiyat']"
      ],
      "metadata": {
        "id": "WgYOW0NuWiB2"
      },
      "execution_count": null,
      "outputs": []
    },
    {
      "cell_type": "code",
      "source": [
        "#VERİ SETİNİN KOPYASINI TUTTUĞUMUZ X DEĞİŞKENİ ÜZERİNDEN SAYISAL SÜTUNLAR İÇİN EĞİLİM DEĞERLERİNİ HESAPLAYIP DAHA SONRA BU DEĞERLERİ “ÖZNİTELİK”,”EĞİM”,”MUTLAKDEGER_EGİM”,”SAPMA_DEGER”\n",
        "#SÜTUNLARINA SAHİP YENİ BİR VERİ SETİ OLUŞTURUYORUZ. MUTLAKDEGER_EGİM SÜTUNU ÜZERİNDEN KONTROL SAĞLARKEN 0.5’DEN BÜYÜK OLAN VERİİLERİ İŞARETLİYORUZ:\n",
        "#Veri setimiz üzerinde eğim işlemi yaparak, sütunların normal dağılıma sahip olup olmadığını kontrol ediyoruz.\n",
        "#Veri setinin normal dağılım göstermesi doğru sonuçlara ulaşabilmemiz açısından önemlidir bu nedenle eğim işlemleri veri setini en doğru hale getirmemizde bize yardımcı olacaktır.\n",
        "\n",
        "import numpy as np\n",
        "\n",
        "veri_egimi = {'oznitelik': [], 'egim': [], 'mutlakdeger_egim': [], 'sapma_degeri': []}\n",
        "for i in X.select_dtypes(np.number).columns:\n",
        "    egim = X[i].skew()\n",
        "    veri_egimi['oznitelik'].append(i)\n",
        "    veri_egimi['egim'].append(egim)\n",
        "    veri_egimi['mutlakdeger_egim'].append(abs(egim))\n",
        "    veri_egimi['sapma_degeri'].append(True if abs(egim) > 0.5 else False)\n",
        "veri_egimi = pd.DataFrame(veri_egimi)"
      ],
      "metadata": {
        "id": "K8DODi0lYmNa"
      },
      "execution_count": null,
      "outputs": []
    },
    {
      "cell_type": "code",
      "source": [
        "#YUKARIDA OLUŞTURDUĞUMUZ VERİ SETİNİN ÜZERİNDEN EĞİMLERİ GÖSTEREN BİR BAR GRAFİĞİ ÇİZİYORUZ.\n",
        "#VERİ_EĞİMİ DEĞİŞKENİNE OZNİTELİK VE MUTLAKDEGER_EGİM SÜTUNLARINI VERİYORUZ VE DAHA SONRA BU SÜTUNLARA GÖRE GÖRSELLEŞTİRME İŞLEMİNİ GERÇEKLEŞTİRİYORUZ:\n",
        "import matplotlib.pyplot as plt\n",
        "\n",
        "plt.figure(figsize=(10, 6))\n",
        "plt.bar(veri_egimi['oznitelik'], veri_egimi['mutlakdeger_egim'])\n",
        "plt.xlabel('Özellik')\n",
        "plt.ylabel('Mutlak Eğilim Değeri')\n",
        "plt.show()"
      ],
      "metadata": {
        "colab": {
          "base_uri": "https://localhost:8080/",
          "height": 391
        },
        "id": "AMRSvBNIL8Rg",
        "outputId": "8ef038e1-d7a3-4042-e49e-caa527446150"
      },
      "execution_count": null,
      "outputs": [
        {
          "output_type": "display_data",
          "data": {
            "text/plain": [
              "<Figure size 720x432 with 1 Axes>"
            ],
            "image/png": "[encoded data removed]"
          },
          "metadata": {
            "needs_background": "light"
          }
        }
      ]
    },
    {
      "cell_type": "code",
      "source": [
        "#VERİ_EGİMİ İSİMLİ VERİ SETİNDEKİ SÜTUNLARIN MUTLAKEGİMDEGERİ ÜZERİNDEN KONTROLÜNÜ SAĞLIYORUZ. BU AŞAMADA MUTLAKEGİM_DEGERİ 0.5’DEN BÜYÜK OLANLARI SEÇMEK İÇİN DÖNGÜ\n",
        "#İLE OZNİTELİK SÜTUNUNU VE MUTLAKEGİM_DEGERİ SÜTUNUNU KULLANIYORUZ. BU KOŞULA UYAN VERİLERİ DÖNGÜ SAYESİNDE SAPMADEGERİYÜKSEK_SÜTUNLAR LİSTESİNE EKLİYORUZ:\n",
        "\n",
        "sapmadegeriyuksek_sütunlar = []\n",
        "for i in veri_egimi['oznitelik']:\n",
        "    if veri_egimi[veri_egimi['oznitelik'] == i]['mutlakdeger_egim'].values[0] > 0.5:\n",
        "        sapmadegeriyuksek_sütunlar.append(i)"
      ],
      "metadata": {
        "id": "R_AfaxguZArw"
      },
      "execution_count": null,
      "outputs": []
    },
    {
      "cell_type": "code",
      "source": [
        "#SAPMADEGERİYÜKSEK_SÜTUNLAR LİSTENİNDEKİ SÜTUNLARA X VERİ SETİNDE BULUNAN VERİLERLE LOGARİTMİK DÖNÜŞÜM SAĞLIYORUZ BU ŞEKİLDE VERİ SETİNİ NORMAL DAĞILIMA GETİRMEYE ÇALIŞIYORUZ:\n",
        "for i in sapmadegeriyuksek_sütunlar:\n",
        "    X[i] = X[i].apply(lambda x: np.log(x))"
      ],
      "metadata": {
        "id": "GThTzIXfZMd5"
      },
      "execution_count": null,
      "outputs": []
    },
    {
      "cell_type": "code",
      "source": [
        "#OKYANUSA_YAKINLIK SÜTUNUNUN METİN İÇERMESİNDEN DOLAYI BU SÜTUNDA BULUNAN  VERİLERİN SAYISAL DEĞERE DÖNÜŞTÜRÜLMESİ GEREKİYOR BUNUNDA AMACI MODELLEME İŞLEMİ\n",
        "#SIRASINDA SAYISAL VERİLERİN DAHA KOLAY İŞLENEBİLİR OLMASIDIR. BU AŞAMADAN SONRA OKYANUSA_YAKINLIK SÜTUNUNDAKİ DEĞERLER 0-1 SAYILARIYLA ETİKETLEME İŞLEMİ GERÇEKLEŞMİŞ OLACAKTIR:\n",
        "from sklearn.preprocessing import LabelEncoder\n",
        "\n",
        "le = LabelEncoder()\n",
        "X['Okyanusa_Yakınlık'] = le.fit_transform(X['Okyanusa_Yakınlık'])"
      ],
      "metadata": {
        "id": "pglduH8WZaE5"
      },
      "execution_count": null,
      "outputs": []
    },
    {
      "cell_type": "code",
      "source": [
        "#STANDARTSCALER İŞLEMİ VERİLERİN ORTALAMASI VE STANDART SAPMASI ÜZERİNDE YAPILAN BİR İŞLEMDİR.\n",
        "#STANDARTSCALER İLE ORTALAMA 0, STANDART SAPMA 1 OLARAK VERİLERİN AYNI ÖLÇEKTE OLMASI SAĞLANIR. BU İŞLEM FİT_TRANSFORM İLE GERÇEKLEŞTİRİLİR:\n",
        "from sklearn.preprocessing import StandardScaler\n",
        "\n",
        "scaler = StandardScaler()\n",
        "X_scaled = scaler.fit_transform(X)\n",
        "X = pd.DataFrame(X_scaled, index=X.index, columns=X.columns)"
      ],
      "metadata": {
        "id": "SmXcrrNyaRaJ"
      },
      "execution_count": null,
      "outputs": []
    },
    {
      "cell_type": "code",
      "source": [
        "X.head"
      ],
      "metadata": {
        "colab": {
          "base_uri": "https://localhost:8080/"
        },
        "id": "UsqU4pe-MaJy",
        "outputId": "91ff97e5-b4e3-4a54-dde2-2be69cfe5059"
      },
      "execution_count": null,
      "outputs": [
        {
          "output_type": "execute_result",
          "data": {
            "text/plain": [
              "<bound method NDFrame.head of          Boylam     Enlem  Konut_Ortalama_Yas  Toplam_Oda  Toplam_Yatak_Odası  \\\n",
              "0     -1.327835  1.052548            0.982143   -1.129255           -1.636300   \n",
              "1     -1.322844  1.043185           -0.607019    1.648839            1.309274   \n",
              "2     -1.332827  1.038503            1.856182   -0.449227           -1.105484   \n",
              "3     -1.337818  1.038503            1.856182   -0.636925           -0.814090   \n",
              "4     -1.337818  1.038503            1.856182   -0.311482           -0.573909   \n",
              "...         ...       ...                 ...         ...                 ...   \n",
              "20635 -0.758826  1.801647           -0.289187   -0.280761           -0.177089   \n",
              "20636 -0.818722  1.806329           -0.845393   -1.439476           -1.429542   \n",
              "20637 -0.823713  1.778237           -0.924851    0.122265            0.179191   \n",
              "20638 -0.873626  1.778237           -0.845393   -0.133391           -0.054452   \n",
              "20639 -0.833696  1.750146           -1.004309    0.403751            0.506962   \n",
              "\n",
              "          Nüfus  Hane_Sayisi  Ortalama_Gelir  Okyanusa_Yakınlık  \\\n",
              "0     -1.692016    -1.561311        1.858786           1.291089   \n",
              "1      1.028461     1.440853        1.852703           1.291089   \n",
              "2     -1.107018    -1.097678        1.567130           1.291089   \n",
              "3     -0.947530    -0.807218        1.032566           1.291089   \n",
              "4     -0.930649    -0.578372        0.218044           1.291089   \n",
              "...         ...          ...             ...                ...   \n",
              "20635 -0.385615    -0.247885       -1.698929          -0.116739   \n",
              "20636 -1.556094    -1.697841       -0.649557          -0.116739   \n",
              "20637 -0.148116     0.122682       -1.516731          -0.116739   \n",
              "20638 -0.563455    -0.171521       -1.317404          -0.116739   \n",
              "20639  0.285418     0.398431       -0.794145          -0.116739   \n",
              "\n",
              "       Türetilmiş_Özellik  \n",
              "0                2.225396  \n",
              "1               -0.474103  \n",
              "2                1.388272  \n",
              "3                1.245552  \n",
              "4                0.434761  \n",
              "...                   ...  \n",
              "20635           -0.760002  \n",
              "20636            1.002098  \n",
              "20637           -1.040367  \n",
              "20638           -0.671152  \n",
              "20639           -0.874396  \n",
              "\n",
              "[20640 rows x 10 columns]>"
            ]
          },
          "metadata": {},
          "execution_count": 17
        }
      ]
    },
    {
      "cell_type": "code",
      "source": [
        "y.head"
      ],
      "metadata": {
        "colab": {
          "base_uri": "https://localhost:8080/"
        },
        "id": "JGV4GMTYMbxT",
        "outputId": "41f436cb-a6e0-4c3b-bab4-aa31147bb648"
      },
      "execution_count": null,
      "outputs": [
        {
          "output_type": "execute_result",
          "data": {
            "text/plain": [
              "<bound method NDFrame.head of 0        13.022764\n",
              "1        12.789684\n",
              "2        12.771671\n",
              "3        12.740517\n",
              "4        12.743151\n",
              "           ...    \n",
              "20635    11.265745\n",
              "20636    11.252859\n",
              "20637    11.432799\n",
              "20638    11.346871\n",
              "20639    11.400876\n",
              "Name: Ortalama_Fiyat, Length: 20640, dtype: float64>"
            ]
          },
          "metadata": {},
          "execution_count": 18
        }
      ]
    },
    {
      "cell_type": "code",
      "source": [
        "#ÜST KISIMDA OLUŞTURDUĞUMUZ X VE Y DEĞİŞKENLERİ ÜZERİNDEN EĞİTİM VE TEST SETLERİNE BÖLÜMLENDİRME İŞLEMİNİ SPLİT() FONKSİYONU YARDIMIYLA YAPIYORUZ.\n",
        "#RANDOMSTATE DEĞERİNİDE 42 OLARAK ATIYORUZ BÖYLECE HER ÇALIŞTIRMA SONRASI FARKLI BİR DEĞER DÖNDÜRÜLMESİNİN ÖNÜNE GEÇİYORUZ.\n",
        "#TEST SİZE İSE 0.2 OLARAK AYARLANDI BÖYLECE TEST KÜMESİ VERİ KÜMESİNİN %20'SİNİ KAPSAYACAKTIR:\n",
        "\n",
        "from sklearn.model_selection import train_test_split\n",
        "X_train, X_test, y_train, y_test = train_test_split(X, y, test_size= 0.2, random_state= 56)"
      ],
      "metadata": {
        "id": "fNHbygo1G16F"
      },
      "execution_count": null,
      "outputs": []
    },
    {
      "cell_type": "code",
      "source": [
        "#BOYUTLARI EKRANA YAZALIM:\n",
        "X_train.dtypes"
      ],
      "metadata": {
        "colab": {
          "base_uri": "https://localhost:8080/"
        },
        "id": "z29zN_BdkId_",
        "outputId": "3ff69045-d7dc-45ee-f61b-9bde4ffacc05"
      },
      "execution_count": null,
      "outputs": [
        {
          "output_type": "execute_result",
          "data": {
            "text/plain": [
              "Boylam                float64\n",
              "Enlem                 float64\n",
              "Konut_Ortalama_Yas    float64\n",
              "Toplam_Oda            float64\n",
              "Toplam_Yatak_Odası    float64\n",
              "Nüfus                 float64\n",
              "Hane_Sayisi           float64\n",
              "Ortalama_Gelir        float64\n",
              "Okyanusa_Yakınlık     float64\n",
              "Türetilmiş_Özellik    float64\n",
              "dtype: object"
            ]
          },
          "metadata": {},
          "execution_count": 25
        }
      ]
    },
    {
      "cell_type": "code",
      "source": [
        "y_train.shape"
      ],
      "metadata": {
        "colab": {
          "base_uri": "https://localhost:8080/"
        },
        "id": "O2PVJbSQjvZ_",
        "outputId": "170281dd-ea8e-4ac8-bf43-b90a03862e52"
      },
      "execution_count": null,
      "outputs": [
        {
          "output_type": "execute_result",
          "data": {
            "text/plain": [
              "(16512,)"
            ]
          },
          "metadata": {},
          "execution_count": 21
        }
      ]
    },
    {
      "cell_type": "code",
      "source": [
        "X_train.shape"
      ],
      "metadata": {
        "colab": {
          "base_uri": "https://localhost:8080/"
        },
        "id": "DLuHC62xjxxI",
        "outputId": "12b2fbee-25fd-4d15-8191-47e32353ed57"
      },
      "execution_count": null,
      "outputs": [
        {
          "output_type": "execute_result",
          "data": {
            "text/plain": [
              "(16512, 10)"
            ]
          },
          "metadata": {},
          "execution_count": 22
        }
      ]
    },
    {
      "cell_type": "code",
      "source": [
        "#BEN MODEL İÇİN RANDOMFOREST KULLANMAYI TERCİH ETTİM. RANDOMFOREST İLE MODEL OLUŞTURUP BUNU X_TRAİN VE Y_TRAİN VERİLERİYLE EĞİTTİK. TAHMİNLERİMİN DOĞRULUĞUNU\n",
        "#ÖLÇMEK İÇİNSE “MSE” VE “R2-SCORE” DEĞERLERİNİ KULLANDIK. MSE: MODELİN TAHMİN ETTİĞİ DEĞERİN GERÇEĞE NE KADAR UYUŞTUĞUNU GÖSTERİR, R2 SCORE İSE TAHMİNLERİN GERÇEK DEĞERLERLE NE KADAR\n",
        "#YÜZDE OLARAK UYUMLU OLDUĞUNU GÖSTERİR:\n",
        "from sklearn.ensemble import RandomForestRegressor\n",
        "model = RandomForestRegressor(n_estimators= 100)\n",
        "model.fit(X_train, y_train)\n",
        "model_tahmini = model.predict(X_test)\n",
        "\n",
        "from sklearn.metrics import r2_score, mean_squared_error\n",
        "\n",
        "rmse_Degeri = np.sqrt(mean_squared_error(y_test, model_tahmini))\n",
        "r2_score = r2_score(y_test, model_tahmini)\n",
        "\n",
        "print('RMSE:', rmse_Degeri)\n",
        "print('R2-Skor:', r2_score)"
      ],
      "metadata": {
        "colab": {
          "base_uri": "https://localhost:8080/"
        },
        "id": "cWPp9VwcgmWI",
        "outputId": "958d4e2e-ebe4-4de6-9d1a-307740f4b90e"
      },
      "execution_count": null,
      "outputs": [
        {
          "output_type": "stream",
          "name": "stdout",
          "text": [
            "RMSE: 0.241611576679013\n",
            "R2-Skor: 0.8234341312783426\n"
          ]
        }
      ]
    },
    {
      "cell_type": "code",
      "source": [
        "#EN SON AŞAMADA İSE NUMPY KÜTÜPHANESİ YARDIMIYLA YENİ VERİ İSİMLİ BİR DİZİ OLUŞTURUP DAHA SONRA BU DİZİ ÜZERİNDEN TAHMİNİ GERÇEKLEŞTİRİYORUZ:\n",
        "import numpy as np\n",
        "\n",
        "yeniveri = np.array([[-250.58, 96.75, 25, 9600, 128, 338, 902, 60, 0, 0]])\n",
        "fiyatTahmin = model.predict(yeniveri)\n",
        "print(\"Tahmin edilen fiyat:\", fiyatTahmin)"
      ],
      "metadata": {
        "colab": {
          "base_uri": "https://localhost:8080/"
        },
        "id": "VVxPq6BNqdCt",
        "outputId": "6672d702-c955-4d3e-f65e-f2b1b050df4a"
      },
      "execution_count": null,
      "outputs": [
        {
          "output_type": "stream",
          "name": "stdout",
          "text": [
            "Tahmin edilen fiyat: [12.76517134]\n"
          ]
        },
        {
          "output_type": "stream",
          "name": "stderr",
          "text": [
            "/usr/local/lib/python3.8/dist-packages/sklearn/base.py:450: UserWarning: X does not have valid feature names, but RandomForestRegressor was fitted with feature names\n",
            "  warnings.warn(\n"
          ]
        }
      ]
    },
    {
      "cell_type": "code",
      "source": [
        "#Pickle kütüphanesinin dump fonksiyonu ile modeli serileştirip kayıt ediyoruz:\n",
        "import pickle\n",
        "\n",
        "with open('model.pkl', 'wb') as dosya:\n",
        "  pickle.dump(model, dosya)"
      ],
      "metadata": {
        "id": "tRRw-F7OxHvu"
      },
      "execution_count": null,
      "outputs": []
    },
    {
      "cell_type": "code",
      "source": [
        "#Pickle kütüphanesinin load fonksiyonu ile serileştirilmiş veriyi tekrar okuyabiliyoruz:\n",
        "with open('model.pkl', 'rb') as dosya:\n",
        "  model = pickle.load(dosya)\n",
        "  tahmin = model.predict(X_test)"
      ],
      "metadata": {
        "id": "9BzCd93IxNcb"
      },
      "execution_count": null,
      "outputs": []
    },
    {
      "cell_type": "code",
      "source": [
        "#Kaydedip çektiğimiz model üzerinden tekrar tahmin yapıyoruz:\n",
        "import numpy as np\n",
        "\n",
        "yeniveri = np.array([[-250.58, 96.75, 25, 9600, 128, 338, 902, 60, 0, 0]])\n",
        "fiyatTahmin = model.predict(yeniveri)\n",
        "print(\"Tahmin edilen fiyat:\", fiyatTahmin)"
      ],
      "metadata": {
        "colab": {
          "base_uri": "https://localhost:8080/"
        },
        "id": "IV2VMp7XsoeI",
        "outputId": "9629be5e-f6db-46b2-d554-e8d80b32144b"
      },
      "execution_count": null,
      "outputs": [
        {
          "output_type": "stream",
          "name": "stdout",
          "text": [
            "Tahmin edilen fiyat: [12.78961615]\n"
          ]
        },
        {
          "output_type": "stream",
          "name": "stderr",
          "text": [
            "/usr/local/lib/python3.8/dist-packages/sklearn/base.py:450: UserWarning: X does not have valid feature names, but RandomForestRegressor was fitted with feature names\n",
            "  warnings.warn(\n"
          ]
        }
      ]
    }
  ]
}